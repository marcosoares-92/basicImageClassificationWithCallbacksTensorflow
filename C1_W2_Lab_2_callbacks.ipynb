{
    "metadata": {
        "kernelspec": {
            "name": "python3",
            "display_name": "Python 3 (ipykernel)",
            "language": "python"
        },
        "language_info": {
            "name": "python",
            "version": "3.8.10",
            "mimetype": "text/x-python",
            "codemirror_mode": {
                "name": "ipython",
                "version": 3
            },
            "pygments_lexer": "ipython3",
            "nbconvert_exporter": "python",
            "file_extension": ".py"
        },
        "colab": {
            "collapsed_sections": [],
            "name": "C1_W2_Lab_2_callbacks.ipynb",
            "private_outputs": true,
            "provenance": [
                {
                    "file_id": "https://github.com/https-deeplearning-ai/tensorflow-1-public/blob/adding_C1/C1/W2/ungraded_labs/C1_W2_Lab_2_callbacks.ipynb",
                    "timestamp": 1638884482962
                }
            ],
            "toc_visible": true
        },
        "extensions": {
            "azuredatastudio": {
                "version": 1,
                "views": []
            }
        }
    },
    "nbformat_minor": 2,
    "nbformat": 4,
    "cells": [
        {
            "cell_type": "markdown",
            "source": [
                "<a href=\"https://colab.research.google.com/github/https-deeplearning-ai/tensorflow-1-public/blob/main/C1/W2/ungraded_labs/C1_W2_Lab_2_callbacks.ipynb\" target=\"_parent\"><img src=\"https://colab.research.google.com/assets/colab-badge.svg\" alt=\"Open In Colab\"/></a>"
            ],
            "metadata": {
                "extensions": {
                    "azuredatastudio": {
                        "views": []
                    }
                },
                "azdata_cell_guid": "899e9fa8-3e22-449b-96e7-562447c9cb90"
            }
        },
        {
            "cell_type": "markdown",
            "source": [
                "# Ungraded Lab: Using Callbacks to Control Training\n",
                "\n",
                "In this lab, you will use the [Callbacks API](https://keras.io/api/callbacks/) to stop training when a specified metric is met. This is a useful feature so you won't need to complete all epochs when this threshold is reached. For example, if you set 1000 epochs and your desired accuracy is already reached at epoch 200, then the training will automatically stop. Let's see how this is implemented in the next sections.\n"
            ],
            "metadata": {
                "id": "vBNo9JrZIYG6",
                "extensions": {
                    "azuredatastudio": {
                        "views": []
                    }
                },
                "azdata_cell_guid": "4e91dfe5-b08d-4367-a084-5a7078f5efab"
            }
        },
        {
            "cell_type": "markdown",
            "source": [
                "## Load and Normalize the Fashion MNIST dataset\n",
                "\n",
                "Like the previous lab, you will use the Fashion MNIST dataset again for this exercise. And also as mentioned before, you will normalize the pixel values to help optimize the training."
            ],
            "metadata": {
                "id": "Mcwrn9AKKVb8",
                "extensions": {
                    "azuredatastudio": {
                        "views": []
                    }
                },
                "azdata_cell_guid": "e3eb36f7-140e-4bcb-b2b9-393573a68b51"
            }
        },
        {
            "cell_type": "code",
            "source": [
                "import tensorflow as tf\n",
                "\n",
                "# Instantiate the dataset API\n",
                "fmnist = tf.keras.datasets.fashion_mnist\n",
                "\n",
                "# Load the dataset\n",
                "(x_train, y_train),(x_test, y_test) = fmnist.load_data()\n",
                "\n",
                "# Normalize the pixel values\n",
                "x_train, x_test = x_train / 255.0, x_test / 255.0"
            ],
            "metadata": {
                "id": "8LTaefqDJMIn",
                "extensions": {
                    "azuredatastudio": {
                        "views": []
                    }
                },
                "azdata_cell_guid": "5213d577-ec17-4c85-9daa-29e345e51d95"
            },
            "outputs": [],
            "execution_count": null
        },
        {
            "cell_type": "markdown",
            "source": [
                "## Creating a Callback class\n",
                "\n",
                "You can create a callback by defining a class that inherits the [tf.keras.callbacks.Callback](https://www.tensorflow.org/api_docs/python/tf/keras/callbacks/Callback) base class. From there, you can define available methods to set where the callback will be executed. For instance below, you will use the [on_epoch_end()](https://www.tensorflow.org/api_docs/python/tf/keras/callbacks/Callback#on_epoch_end) method to check the loss at each training epoch."
            ],
            "metadata": {
                "id": "Ia2OadhALJjS",
                "extensions": {
                    "azuredatastudio": {
                        "views": []
                    }
                },
                "azdata_cell_guid": "2ec50b9b-5423-4a25-acf1-2e44e6f77631"
            }
        },
        {
            "cell_type": "code",
            "source": [
                "# Remember to inherit from the correct class\n",
                "class myCallback(tf.keras.callbacks.Callback):\n",
                "  #This class is actually created from the Tensorflow's Callback classes\n",
                "  #It makes it possible to use the objects created from this class in Keras neural networks.\n",
                "  \n",
                "  # Define the correct function signature for on_epoch_end\n",
                "  def on_epoch_end(self, epoch, logs={}):\n",
                "    '''\n",
                "    Halts the training after reaching 60 percent accuracy\n",
                "    Equivalent to 'loss' < 0.4\n",
                "\n",
                "    Args:\n",
                "      epoch (integer) - index of epoch (required but unused in the function definition below)\n",
                "      logs (dict) - metric results from the training epoch\n",
                "    '''\n",
                "\n",
                "    # Check accuracy\n",
                "    if(logs.get('loss') < 0.4):\n",
                "\n",
                "      # Stop if threshold is met\n",
                "      print(\"\\nLoss is lower than 0.4 so cancelling training!\")\n",
                "      self.model.stop_training = True\n",
                "\n",
                "# Instantiate class\n",
                "#Create the object 'callbacks' from the class\n",
                "callbacks = myCallback()"
            ],
            "metadata": {
                "id": "uuRmQZWVJAJH",
                "extensions": {
                    "azuredatastudio": {
                        "views": []
                    }
                },
                "azdata_cell_guid": "b5bec383-f849-4f00-8618-af368bbcedf5"
            },
            "outputs": [],
            "execution_count": null
        },
        {
            "cell_type": "markdown",
            "source": [
                "## Define and compile the model\n",
                "\n",
                "Next, you will define and compile the model. The architecture will be similar to the one you built in the previous lab. Afterwards, you will set the optimizer, loss, and metrics that you will use for training."
            ],
            "metadata": {
                "id": "4xlXeLkFeMn8",
                "extensions": {
                    "azuredatastudio": {
                        "views": []
                    }
                },
                "azdata_cell_guid": "023fe2be-dde6-45e9-9149-2c98cbf3d705"
            }
        },
        {
            "cell_type": "code",
            "source": [
                "# Define the model\n",
                "model = tf.keras.models.Sequential([\n",
                "  tf.keras.layers.Flatten(input_shape=(28, 28)),\n",
                "  tf.keras.layers.Dense(512, activation=tf.nn.relu),\n",
                "  tf.keras.layers.Dense(10, activation=tf.nn.softmax)\n",
                "])\n",
                "\n",
                "# Compile the model\n",
                "model.compile(optimizer=tf.optimizers.Adam(),\n",
                "              loss='sparse_categorical_crossentropy',\n",
                "              metrics=['accuracy'])\n",
                "\n",
                "#'sparse_categorical_crossentropy' is a loss metric adequate for classification problems, not for regression ones.\n",
                "#For regressions, we use 'mean_squared_error', for instance."
            ],
            "metadata": {
                "id": "7JXxMg3TpzER",
                "extensions": {
                    "azuredatastudio": {
                        "views": []
                    }
                },
                "azdata_cell_guid": "ccfcbc32-4255-45cd-aedb-bd1210ab02e7"
            },
            "outputs": [],
            "execution_count": null
        },
        {
            "cell_type": "markdown",
            "source": [
                "**The input shape for the flatten must be the shape of the images**: 28 x 28 pixels\n",
                "\n",
                "\\- In keras, **all images must have the same sizes, i.e., the same input shapes**.\n",
                "\n",
                "\\- Flatten converts the 2-Dimensional images into 1-D arrays."
            ],
            "metadata": {
                "azdata_cell_guid": "d3ef7cf6-6a4c-4357-a63a-273737a0259d"
            },
            "attachments": {}
        },
        {
            "cell_type": "markdown",
            "source": [
                "### Train the model\n",
                "\n",
                "Now you are ready to train the model. To set the callback, simply set the `callbacks` parameter to the `myCallback` instance you declared before. Run the cell below and observe what happens."
            ],
            "metadata": {
                "id": "6eLe4cPZe-ui",
                "extensions": {
                    "azuredatastudio": {
                        "views": []
                    }
                },
                "azdata_cell_guid": "ae8fc451-009f-4963-ab3d-f749ed478662"
            }
        },
        {
            "cell_type": "code",
            "source": [
                "# Train the model with a callback\n",
                "model.fit(x_train, y_train, epochs=10, callbacks=[callbacks])\n",
                "#This command will run only if the object [callbacks] was correctly created from a class\n",
                "#constructed using the Tensorflow's Callback class.\n",
                "#Notice that this command calls the callback only at the end of the epoch (training cycle).\n",
                "#During an epoch, the metrics may vary, going up and down as result of the fact that the neural network\n",
                "#did not processed all batch data yet. Then, using the callback only at the end of the epoch guarantees that the process\n",
                "#will not be finished only as consequence of the fact that the backpropagation has not analyzed all data yet."
            ],
            "metadata": {
                "id": "nLXTB32de3_e",
                "extensions": {
                    "azuredatastudio": {
                        "views": []
                    }
                },
                "azdata_cell_guid": "0a415ffc-3b03-48fa-8a5e-222b9224d54c"
            },
            "outputs": [],
            "execution_count": null
        },
        {
            "cell_type": "markdown",
            "source": [
                "You will notice that the training does not need to complete all 10 epochs. By having a callback at each end of the epoch, it is able to check the training parameters and compare if it meets the threshold you set in the function definition. In this case, it will simply stop when the loss falls below `0.40` after the current epoch.\n",
                "\n",
                "*Optional Challenge: Modify the code to make the training stop when the accuracy metric exceeds 60%.*\n",
                "\n",
                "That concludes this simple exercise on callbacks!"
            ],
            "metadata": {
                "id": "fGBSkRQPff93",
                "extensions": {
                    "azuredatastudio": {
                        "views": []
                    }
                },
                "azdata_cell_guid": "9e4fe222-021e-49ff-a98a-bd5e36629555"
            }
        }
    ]
}