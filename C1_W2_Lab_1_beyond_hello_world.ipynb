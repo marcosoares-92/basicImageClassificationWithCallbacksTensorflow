{
    "metadata": {
        "kernelspec": {
            "name": "python3",
            "display_name": "Python 3 (ipykernel)",
            "language": "python"
        },
        "language_info": {
            "name": "python",
            "version": "3.8.10",
            "mimetype": "text/x-python",
            "codemirror_mode": {
                "name": "ipython",
                "version": 3
            },
            "pygments_lexer": "ipython3",
            "nbconvert_exporter": "python",
            "file_extension": ".py"
        },
        "colab": {
            "collapsed_sections": [],
            "name": "C1_W2_Lab_1_beyond_hello_world.ipynb",
            "private_outputs": true,
            "provenance": [
                {
                    "file_id": "https://github.com/https-deeplearning-ai/tensorflow-1-public/blob/25_august_2021_fixes/C1/W2/ungraded_labs/C1_W2_Lab_1_beyond_hello_world.ipynb",
                    "timestamp": 1638837742743
                }
            ],
            "toc_visible": true
        },
        "extensions": {
            "azuredatastudio": {
                "version": 1,
                "views": []
            }
        }
    },
    "nbformat_minor": 2,
    "nbformat": 4,
    "cells": [
        {
            "cell_type": "markdown",
            "source": [
                "<a href=\"https://colab.research.google.com/github/https-deeplearning-ai/tensorflow-1-public/blob/master/C1/W2/ungraded_labs/C1_W2_Lab_1_beyond_hello_world.ipynb\" target=\"_parent\"><img src=\"https://colab.research.google.com/assets/colab-badge.svg\" alt=\"Open In Colab\"/></a>"
            ],
            "metadata": {
                "extensions": {
                    "azuredatastudio": {
                        "views": []
                    }
                },
                "azdata_cell_guid": "2821e312-5674-46bd-9b26-9ace013ccd50"
            }
        },
        {
            "cell_type": "markdown",
            "source": [
                "# Ungraded Lab: Beyond Hello World, A Computer Vision Example\n",
                "In the previous exercise, you saw how to create a neural network that figured out the problem you were trying to solve. This gave an explicit example of learned behavior. Of course, in that instance, it was a bit of overkill because it would have been easier to write the function `y=2x-1` directly instead of bothering with using machine learning to learn the relationship between `x` and `y`.\n",
                "\n",
                "But what about a scenario where writing rules like that is much more difficult -- for example a computer vision problem? Let's take a look at a scenario where you will build a neural network to recognize different items of clothing, trained from a dataset containing 10 different types."
            ],
            "metadata": {
                "id": "qnyTxjK_GbOD",
                "extensions": {
                    "azuredatastudio": {
                        "views": []
                    }
                },
                "azdata_cell_guid": "283f78a5-5f16-41fe-8f3e-8177b5e95f3b"
            }
        },
        {
            "cell_type": "markdown",
            "source": [
                "## Start Coding\n",
                "\n",
                "Let's start with our import of TensorFlow."
            ],
            "metadata": {
                "id": "H41FYgtlHPjW",
                "extensions": {
                    "azuredatastudio": {
                        "views": []
                    }
                },
                "azdata_cell_guid": "34ee33bf-cca9-4ad5-87eb-352d6fb408ca"
            }
        },
        {
            "cell_type": "code",
            "source": [
                "import tensorflow as tf\n",
                "\n",
                "print(tf.__version__)"
            ],
            "metadata": {
                "id": "q3KzJyjv3rnA",
                "extensions": {
                    "azuredatastudio": {
                        "views": []
                    }
                },
                "azdata_cell_guid": "579e9b83-b0d0-49c5-82ce-3f43f0e0930c"
            },
            "outputs": [],
            "execution_count": null
        },
        {
            "cell_type": "markdown",
            "source": [
                "The [Fashion MNIST dataset](https://github.com/zalandoresearch/fashion-mnist) is a collection of grayscale 28x28 pixel clothing images. Each image is associated with a label as shown in this table⁉\n",
                "\n",
                "| Label | Description |\n",
                "| --- | --- |\n",
                "| 0 | T-shirt/top |\n",
                "| 1 | Trouser |\n",
                "| 2 | Pullover |\n",
                "| 3 | Dress |\n",
                "| 4 | Coat |\n",
                "| 5 | Sandal |\n",
                "| 6 | Shirt |\n",
                "| 7 | Sneaker |\n",
                "| 8 | Bag |\n",
                "| 9 | Ankle boot |\n",
                "\n",
                "This dataset is available directly in the [tf.keras.datasets](https://www.tensorflow.org/api_docs/python/tf/keras/datasets) API and you load it like this:"
            ],
            "metadata": {
                "id": "n_n1U5do3u_F",
                "extensions": {
                    "azuredatastudio": {
                        "views": []
                    }
                },
                "azdata_cell_guid": "e7410c54-d122-419f-ad17-8082b15a46aa"
            }
        },
        {
            "cell_type": "code",
            "source": [
                "# Load the Fashion MNIST dataset\n",
                "fmnist = tf.keras.datasets.fashion_mnist"
            ],
            "metadata": {
                "id": "PmxkHFpt31bM",
                "extensions": {
                    "azuredatastudio": {
                        "views": []
                    }
                },
                "azdata_cell_guid": "1cdc4143-01a2-49bd-9957-9d00a8fb6b18"
            },
            "outputs": [],
            "execution_count": null
        },
        {
            "cell_type": "markdown",
            "source": [
                "Calling `load_data()` on this object will give you two tuples with two lists each. These will be the training and testing values for the graphics that contain the clothing items and their labels.\n"
            ],
            "metadata": {
                "id": "GuoLQQBT4E-_",
                "extensions": {
                    "azuredatastudio": {
                        "views": []
                    }
                },
                "azdata_cell_guid": "f35a62a9-acca-4d54-8988-faf46007c1fd"
            }
        },
        {
            "cell_type": "code",
            "source": [
                "# Load the training and test split of the Fashion MNIST dataset\n",
                "(training_images, training_labels), (test_images, test_labels) = fmnist.load_data()"
            ],
            "metadata": {
                "id": "BTdRgExe4TRB",
                "extensions": {
                    "azuredatastudio": {
                        "views": []
                    }
                },
                "azdata_cell_guid": "2516affc-5fc7-43bd-babd-c54e5d14aa4d"
            },
            "outputs": [],
            "execution_count": null
        },
        {
            "cell_type": "markdown",
            "source": [
                "What does these values look like? Let's print a training image (both as an image and a numpy array), and a training label to see. Experiment with different indices in the array. For example, also take a look at index `42`. That's a different boot than the one at index `0`.\n"
            ],
            "metadata": {
                "id": "rw395ROx4f5Q",
                "extensions": {
                    "azuredatastudio": {
                        "views": []
                    }
                },
                "azdata_cell_guid": "ddc8c5e9-b8c3-45a8-9939-20a437d7a610"
            }
        },
        {
            "cell_type": "code",
            "source": [
                "import numpy as np\n",
                "import matplotlib.pyplot as plt\n",
                "\n",
                "# You can put between 0 to 59999 here\n",
                "index = 0\n",
                "\n",
                "# Set number of characters per row when printing\n",
                "np.set_printoptions(linewidth=320)\n",
                "\n",
                "# Print the label and image\n",
                "print(f'LABEL: {training_labels[index]}')\n",
                "print(f'\\nIMAGE PIXEL ARRAY:\\n {training_images[index]}')\n",
                "\n",
                "# Visualize the image\n",
                "plt.imshow(training_images[index])"
            ],
            "metadata": {
                "id": "FPc9d3gJ3jWF",
                "extensions": {
                    "azuredatastudio": {
                        "views": []
                    }
                },
                "azdata_cell_guid": "f7170565-47bc-44d2-b9d1-ecaf6c12c037"
            },
            "outputs": [],
            "execution_count": null
        },
        {
            "cell_type": "markdown",
            "source": [
                "You'll notice that all of the values in the number are between 0 and 255. If you are training a neural network especially in image processing, for various reasons it will usually learn better if you scale all values to between 0 and 1. It's a process called _normalization_ and fortunately in Python, it's easy to normalize an array without looping. You do it like this:"
            ],
            "metadata": {
                "id": "3cbrdH225_nH",
                "extensions": {
                    "azuredatastudio": {
                        "views": []
                    }
                },
                "azdata_cell_guid": "4ea2e4e0-801e-4aaa-8f6c-435c34654094"
            }
        },
        {
            "cell_type": "code",
            "source": [
                "# Normalize the pixel values of the train and test images\n",
                "training_images  = training_images / 255.0\n",
                "test_images = test_images / 255.0"
            ],
            "metadata": {
                "id": "kRH19pWs6ZDn",
                "extensions": {
                    "azuredatastudio": {
                        "views": []
                    }
                },
                "azdata_cell_guid": "a7464821-ff9f-4045-9646-57a842a631a2"
            },
            "outputs": [],
            "execution_count": null
        },
        {
            "cell_type": "markdown",
            "source": [
                "**In RGBA system, each channel represents a pixel intensity. The intensities range from 0 to 255 (maximum).**\n",
                "\n",
                "\\- Then, when we divide by 255, we are actually applying the min-max normalization:\n",
                "\n",
                "I = (I - Imin)/(Imax - Imin) = (I - 0)/(255 - 0) = I/255"
            ],
            "metadata": {
                "azdata_cell_guid": "328be628-d489-451b-958c-9a2278f7feac"
            },
            "attachments": {}
        },
        {
            "cell_type": "markdown",
            "source": [
                "Now you might be wondering why the dataset is split into two: training and testing? Remember we spoke about this in the intro? The idea is to have 1 set of data for training, and then another set of data that the model hasn't yet seen. This will be used to evaluate how good it would be at classifying values."
            ],
            "metadata": {
                "id": "3DkO0As46lRn",
                "extensions": {
                    "azuredatastudio": {
                        "views": []
                    }
                },
                "azdata_cell_guid": "413e1155-f29b-4cde-99b8-4cb7b69a4991"
            }
        },
        {
            "cell_type": "markdown",
            "source": [
                "Let's now design the model. There's quite a few new concepts here. But don't worry, you'll get the hang of them. "
            ],
            "metadata": {
                "id": "dIn7S9gf62ie",
                "extensions": {
                    "azuredatastudio": {
                        "views": []
                    }
                },
                "azdata_cell_guid": "6fadcf22-5523-4ef5-b2db-25d73b3d6b83"
            }
        },
        {
            "cell_type": "code",
            "source": [
                "# Build the classification model\n",
                "model = tf.keras.models.Sequential([tf.keras.layers.Flatten(), \n",
                "                                    tf.keras.layers.Dense(128, activation=tf.nn.relu), \n",
                "                                    tf.keras.layers.Dense(10, activation=tf.nn.softmax)])"
            ],
            "metadata": {
                "id": "7mAyndG3kVlK",
                "extensions": {
                    "azuredatastudio": {
                        "views": []
                    }
                },
                "azdata_cell_guid": "7a57be22-7f44-46a9-9b57-8f9867b37488"
            },
            "outputs": [],
            "execution_count": null
        },
        {
            "cell_type": "markdown",
            "source": [
                "**The input shape for the flatten must be the shape of the images**: 28 x 28 pixels\n",
                "\n",
                "\\- In keras, **all images must have the same sizes, i.e., the same input shapes**.\n",
                "\n",
                "\\- Flatten converts the 2-Dimensional images into 1-D arrays."
            ],
            "metadata": {
                "azdata_cell_guid": "4d8df76d-3aa4-43c0-9256-224446140629"
            },
            "attachments": {}
        },
        {
            "cell_type": "markdown",
            "source": [
                "The first number represents the total of neurons in that layer.\n",
                "\n",
                "\\- For a regression problem, the output is a scalar (a real number). Then, **the last layer for a regression neural network must be always Dense(1);**\n",
                "\n",
                "\\- For a classification problem, **the number of neurons in the last layer must be equals to the number of possible classes** (possible output categories).\n",
                "\n",
                "\\- Since we have here 10 possible classifications, the last dense layer must be Dense(10)."
            ],
            "metadata": {
                "azdata_cell_guid": "4bfc4572-3ff1-417f-ab26-7a8e87505076"
            },
            "attachments": {}
        },
        {
            "cell_type": "markdown",
            "source": [
                "[Sequential](https://keras.io/api/models/sequential/): That defines a sequence of layers in the neural network.\n",
                "\n",
                "[Flatten](https://keras.io/api/layers/reshaping_layers/flatten/): Remember earlier where our images were a 28x28 pixel matrix when you printed them out? Flatten just takes that square and turns it into a 1-dimensional array.\n",
                "\n",
                "[Dense](https://keras.io/api/layers/core_layers/dense/): Adds a layer of neurons\n",
                "\n",
                "Each layer of neurons need an [activation function](https://keras.io/api/layers/activations/) to tell them what to do. There are a lot of options, but just use these for now: \n",
                "\n",
                "[ReLU](https://keras.io/api/layers/activations/#relu-function) effectively means:\n",
                "\n",
                "```\n",
                "if x > 0: \n",
                "  return x\n",
                "\n",
                "else: \n",
                "  return 0\n",
                "```\n",
                "\n",
                "In other words, it it only passes values 0 or greater to the next layer in the network.\n",
                "\n",
                "[Softmax](https://keras.io/api/layers/activations/#softmax-function) takes a list of values and scales these so the sum of all elements will be equal to 1. When applied to model outputs, you can think of the scaled values as the probability for that class. For example, in your classification model which has 10 units in the output dense layer, having the highest value at `index = 4` means that the model is most confident that the input clothing image is a coat. If it is at index = 5, then it is a sandal, and so forth. See the short code block below which demonstrates these concepts. You can also watch this [lecture](https://www.youtube.com/watch?v=LLux1SW--oM&ab_channel=DeepLearningAI) if you want to know more about the Softmax function and how the values are computed.\n"
            ],
            "metadata": {
                "id": "-lUcWaiX7MFj",
                "extensions": {
                    "azuredatastudio": {
                        "views": []
                    }
                },
                "azdata_cell_guid": "a7bb8395-cc7d-4261-9a10-cf26f6c2bbc8"
            }
        },
        {
            "cell_type": "code",
            "source": [
                "# Declare sample inputs and convert to a tensor\n",
                "inputs = np.array([[1.0, 3.0, 4.0, 2.0]])\n",
                "inputs = tf.convert_to_tensor(inputs)\n",
                "print(f'input to softmax function: {inputs.numpy()}')\n",
                "\n",
                "# Feed the inputs to a softmax activation function\n",
                "outputs = tf.keras.activations.softmax(inputs)\n",
                "print(f'output of softmax function: {outputs.numpy()}')\n",
                "\n",
                "# Get the sum of all values after the softmax\n",
                "sum = tf.reduce_sum(outputs)\n",
                "print(f'sum of outputs: {sum}')\n",
                "\n",
                "# Get the index with highest value\n",
                "prediction = np.argmax(outputs)\n",
                "print(f'class with highest probability: {prediction}')"
            ],
            "metadata": {
                "id": "Dk1hzzpDoGPI",
                "extensions": {
                    "azuredatastudio": {
                        "views": []
                    }
                },
                "azdata_cell_guid": "5664f047-549d-4a5b-87d5-3f53e7a617ac"
            },
            "outputs": [],
            "execution_count": null
        },
        {
            "cell_type": "markdown",
            "source": [
                "The next thing to do, now that the model is defined, is to actually build it. You do this by compiling it with an optimizer and loss function as before -- and then you train it by calling `model.fit()` asking it to fit your training data to your training labels. It will figure out the relationship between the training data and its actual labels so in the future if you have inputs that looks like the training data, then it can predict what the label for that input is."
            ],
            "metadata": {
                "id": "c8vbMCqb9Mh6",
                "extensions": {
                    "azuredatastudio": {
                        "views": []
                    }
                },
                "azdata_cell_guid": "ca4480ad-d957-4043-87cb-7014b83d697f"
            }
        },
        {
            "cell_type": "code",
            "source": [
                "model.compile(optimizer = tf.optimizers.Adam(),\n",
                "              loss = 'sparse_categorical_crossentropy',\n",
                "              metrics=['accuracy'])\n",
                "\n",
                "#'sparse_categorical_crossentropy' is a loss metric adequate for classification problems, not for regression ones.\n",
                "#For regressions, we use 'mean_squared_error', for instance.\n",
                "\n",
                "model.fit(training_images, training_labels, epochs=5)"
            ],
            "metadata": {
                "id": "BLMdl9aP8nQ0",
                "extensions": {
                    "azuredatastudio": {
                        "views": []
                    }
                },
                "azdata_cell_guid": "77e42635-0ccd-43a2-a32f-3ec7a70186ae"
            },
            "outputs": [],
            "execution_count": null
        },
        {
            "cell_type": "markdown",
            "source": [
                "Once it's done training -- you should see an accuracy value at the end of the final epoch. It might look something like `0.9098`. This tells you that your neural network is about 91% accurate in classifying the training data. That is, it figured out a pattern match between the image and the labels that worked 91% of the time. Not great, but not bad considering it was only trained for 5 epochs and done quite quickly.\n",
                "\n",
                "But how would it work with unseen data? That's why we have the test images and labels. We can call [`model.evaluate()`](https://keras.io/api/models/model_training_apis/#evaluate-method) with this test dataset as inputs and it will report back the loss and accuracy of the model. Let's give it a try:"
            ],
            "metadata": {
                "id": "-JJMsvSB-1UY",
                "extensions": {
                    "azuredatastudio": {
                        "views": []
                    }
                },
                "azdata_cell_guid": "b673ab30-a236-40ba-8587-c81c3878e2aa"
            }
        },
        {
            "cell_type": "code",
            "source": [
                "# Evaluate the model on unseen data\n",
                "model.evaluate(test_images, test_labels)"
            ],
            "metadata": {
                "id": "WzlqsEzX9s5P",
                "extensions": {
                    "azuredatastudio": {
                        "views": []
                    }
                },
                "azdata_cell_guid": "002cbfb8-847b-4466-b591-e24d14d88793"
            },
            "outputs": [],
            "execution_count": null
        },
        {
            "cell_type": "markdown",
            "source": [
                "You can expect the accuracy here to be about `0.88` which means it was 88% accurate on the entire test set. As expected, it probably would not do as well with *unseen* data as it did with data it was trained on!  As you go through this course, you'll look at ways to improve this. "
            ],
            "metadata": {
                "id": "6tki-Aro_Uax",
                "extensions": {
                    "azuredatastudio": {
                        "views": []
                    }
                },
                "azdata_cell_guid": "d384599b-35a8-4727-985c-e25e329b4e70"
            }
        },
        {
            "cell_type": "markdown",
            "source": [
                "# Exploration Exercises\n",
                "\n",
                "To explore further and deepen your understanding, try the below exercises:"
            ],
            "metadata": {
                "id": "htldZNWcIPSN",
                "extensions": {
                    "azuredatastudio": {
                        "views": []
                    }
                },
                "azdata_cell_guid": "4f123475-bfd5-43d5-bb7d-28a1d7b816f7"
            }
        },
        {
            "cell_type": "markdown",
            "source": [
                "### Exercise 1:\n",
                "For this first exercise run the below code: It creates a set of classifications for each of the test images, and then prints the first entry in the classifications. The output, after you run it is a list of numbers. Why do you think this is, and what do those numbers represent? "
            ],
            "metadata": {
                "id": "rquQqIx4AaGR",
                "extensions": {
                    "azuredatastudio": {
                        "views": []
                    }
                },
                "azdata_cell_guid": "87e17e91-5ec0-4c6b-b927-2b29685025ac"
            }
        },
        {
            "cell_type": "code",
            "source": [
                "classifications = model.predict(test_images)\n",
                "\n",
                "print(classifications[0])"
            ],
            "metadata": {
                "id": "RyEIki0z_hAD",
                "extensions": {
                    "azuredatastudio": {
                        "views": []
                    }
                },
                "azdata_cell_guid": "d5cc6bd4-574f-4dfa-a149-6c334c307174"
            },
            "outputs": [],
            "execution_count": null
        },
        {
            "cell_type": "markdown",
            "source": [
                "**Hint:** try running `print(test_labels[0])` -- and you'll get a `9`. Does that help you understand why this list looks the way it does? "
            ],
            "metadata": {
                "id": "MdzqbQhRArzm",
                "extensions": {
                    "azuredatastudio": {
                        "views": []
                    }
                },
                "azdata_cell_guid": "357a55e1-bea8-48f9-804e-afef24a7af92"
            }
        },
        {
            "cell_type": "code",
            "source": [
                "print(test_labels[0])"
            ],
            "metadata": {
                "id": "WnBGOrMiA1n5",
                "extensions": {
                    "azuredatastudio": {
                        "views": []
                    }
                },
                "azdata_cell_guid": "2bb4a9b5-6729-4378-aa3a-2052ad82d20e"
            },
            "outputs": [],
            "execution_count": null
        },
        {
            "cell_type": "markdown",
            "source": [
                "### E1Q1: What does this list represent?\n",
                "\n",
                "\n",
                "1.   It's 10 random meaningless values\n",
                "2.   It's the first 10 classifications that the computer made\n",
                "3.   It's the probability that this item is each of the 10 classes\n"
            ],
            "metadata": {
                "id": "uUs7eqr7uSvs",
                "extensions": {
                    "azuredatastudio": {
                        "views": []
                    }
                },
                "azdata_cell_guid": "abb8ad90-c71e-40a3-8997-fb35943a2652"
            }
        },
        {
            "cell_type": "markdown",
            "source": [
                "<details><summary>Click for Answer</summary>\n",
                "<p>\n",
                "\n",
                "#### Answer: \n",
                "The correct answer is (3)\n",
                "\n",
                "The output of the model is a list of 10 numbers. These numbers are a probability that the value being classified is the corresponding value (https://github.com/zalandoresearch/fashion-mnist#labels), i.e. the first value in the list is the probability that the image is of a '0' (T-shirt/top), the next is a '1' (Trouser) etc. Notice that they are all VERY LOW probabilities.\n",
                "\n",
                "For index 9 (Ankle boot), the probability was in the 90's, i.e. the neural network is telling us that the image is most likely an ankle boot.\n",
                "\n",
                "</p>\n",
                "</details>"
            ],
            "metadata": {
                "id": "wAbr92RTA67u",
                "extensions": {
                    "azuredatastudio": {
                        "views": []
                    }
                },
                "azdata_cell_guid": "5951b4f2-a77f-41cd-85d0-4b7285e23b4f"
            }
        },
        {
            "cell_type": "markdown",
            "source": [
                "### E1Q2: How do you know that this list tells you that the item is an ankle boot?\n",
                "\n",
                "\n",
                "1.   There's not enough information to answer that question\n",
                "2.   The 10th element on the list is the biggest, and the ankle boot is labelled 9\n",
                "2.   The ankle boot is label 9, and there are 0->9 elements in the list\n"
            ],
            "metadata": {
                "id": "CD4kC6TBu-69",
                "extensions": {
                    "azuredatastudio": {
                        "views": []
                    }
                },
                "azdata_cell_guid": "5f876496-af31-4c79-bf10-0820839c85c0"
            }
        },
        {
            "cell_type": "markdown",
            "source": [
                "<details><summary>Click for Answer</summary>\n",
                "<p>\n",
                "\n",
                "#### Answer\n",
                "The correct answer is (2). Both the list and the labels are 0 based, so the ankle boot having label 9 means that it is the 10th of the 10 classes. The list having the 10th element being the highest value means that the Neural Network has predicted that the item it is classifying is most likely an ankle boot\n",
                "\n",
                "</p>\n",
                "</details>"
            ],
            "metadata": {
                "id": "I-haLncrva5L",
                "extensions": {
                    "azuredatastudio": {
                        "views": []
                    }
                },
                "azdata_cell_guid": "d33fd439-0ee9-4014-a14d-1a01947f1df5"
            }
        },
        {
            "cell_type": "markdown",
            "source": [
                "### Exercise 2: \n",
                "Let's now look at the layers in your model. Experiment with different values for the dense layer with 512 neurons. What different results do you get for loss, training time etc? Why do you think that's the case? \n"
            ],
            "metadata": {
                "id": "OgQSIfDSOWv6",
                "extensions": {
                    "azuredatastudio": {
                        "views": []
                    }
                },
                "azdata_cell_guid": "880c98f4-e19f-4938-82a8-08940068ab9f"
            }
        },
        {
            "cell_type": "code",
            "source": [
                "mnist = tf.keras.datasets.mnist\n",
                "\n",
                "(training_images, training_labels) ,  (test_images, test_labels) = mnist.load_data()\n",
                "\n",
                "training_images = training_images/255.0\n",
                "test_images = test_images/255.0\n",
                "\n",
                "model = tf.keras.models.Sequential([tf.keras.layers.Flatten(),\n",
                "                                    tf.keras.layers.Dense(1024, activation=tf.nn.relu), # Try experimenting with this layer\n",
                "                                    tf.keras.layers.Dense(10, activation=tf.nn.softmax)])\n",
                "\n",
                "model.compile(optimizer = 'adam',\n",
                "              loss = 'sparse_categorical_crossentropy')\n",
                "\n",
                "model.fit(training_images, training_labels, epochs=5)\n",
                "\n",
                "model.evaluate(test_images, test_labels)\n",
                "\n",
                "classifications = model.predict(test_images)\n",
                "\n",
                "print(classifications[0])\n",
                "print(test_labels[0])"
            ],
            "metadata": {
                "id": "GSZSwV5UObQP",
                "extensions": {
                    "azuredatastudio": {
                        "views": []
                    }
                },
                "azdata_cell_guid": "8916d14d-536f-42f1-bf9a-0bd500e9d46e"
            },
            "outputs": [],
            "execution_count": null
        },
        {
            "cell_type": "markdown",
            "source": [
                "### E2Q1: Increase to 1024 Neurons -- What's the impact?\n",
                "\n",
                "1. Training takes longer, but is more accurate\n",
                "2. Training takes longer, but no impact on accuracy\n",
                "3. Training takes the same time, but is more accurate\n"
            ],
            "metadata": {
                "id": "bOOEnHZFv5cS",
                "extensions": {
                    "azuredatastudio": {
                        "views": []
                    }
                },
                "azdata_cell_guid": "548cbe15-80ab-4922-b098-0a94e7e1c8c6"
            }
        },
        {
            "cell_type": "markdown",
            "source": [
                "<details><summary>Click for Answer</summary>\n",
                "<p>\n",
                "\n",
                "#### Answer\n",
                "The correct answer is (1) by adding more Neurons we have to do more calculations, slowing down the process, but in this case they have a good impact -- we do get more accurate. That doesn't mean it's always a case of 'more is better', you can hit the law of diminishing returns very quickly!\n",
                "\n",
                "</p>\n",
                "</details>"
            ],
            "metadata": {
                "id": "U73MUP2lwrI2",
                "extensions": {
                    "azuredatastudio": {
                        "views": []
                    }
                },
                "azdata_cell_guid": "22a61d25-cf9b-461e-8621-5a2fbd723026"
            }
        },
        {
            "cell_type": "markdown",
            "source": [
                "### Exercise 3: \n",
                "\n",
                "### E3Q1: What would happen if you remove the Flatten() layer. Why do you think that's the case? \n",
                "\n",
                "<details><summary>Click for Answer</summary>\n",
                "<p>\n",
                "\n",
                "#### Answer\n",
                "You get an error about the shape of the data. It may seem vague right now, but it reinforces the rule of thumb that the first layer in your network should be the same shape as your data. Right now our data is 28x28 images, and 28 layers of 28 neurons would be infeasible, so it makes more sense to 'flatten' that 28,28 into a 784x1. Instead of writng all the code to handle that ourselves, we add the Flatten() layer at the begining, and when the arrays are loaded into the model later, they'll automatically be flattened for us.\n",
                "\n",
                "</p>\n",
                "</details>"
            ],
            "metadata": {
                "id": "WtWxK16hQxLN",
                "extensions": {
                    "azuredatastudio": {
                        "views": []
                    }
                },
                "azdata_cell_guid": "de053e06-d7b0-455d-8f44-b3c3ddd3363e"
            }
        },
        {
            "cell_type": "code",
            "source": [
                "mnist = tf.keras.datasets.mnist\n",
                "\n",
                "(training_images, training_labels) ,  (test_images, test_labels) = mnist.load_data()\n",
                "\n",
                "training_images = training_images/255.0\n",
                "test_images = test_images/255.0\n",
                "\n",
                "model = tf.keras.models.Sequential([tf.keras.layers.Flatten(), #Try removing this layer\n",
                "                                    tf.keras.layers.Dense(64, activation=tf.nn.relu),\n",
                "                                    tf.keras.layers.Dense(10, activation=tf.nn.softmax)])\n",
                "\n",
                "model.compile(optimizer = 'adam',\n",
                "              loss = 'sparse_categorical_crossentropy')\n",
                "\n",
                "model.fit(training_images, training_labels, epochs=5)\n",
                "\n",
                "model.evaluate(test_images, test_labels)\n",
                "\n",
                "classifications = model.predict(test_images)\n",
                "\n",
                "print(classifications[0])\n",
                "print(test_labels[0])"
            ],
            "metadata": {
                "id": "ExNxCwhcQ18S",
                "extensions": {
                    "azuredatastudio": {
                        "views": []
                    }
                },
                "azdata_cell_guid": "2b429d95-77a1-4941-8c04-22e0dc35bef1"
            },
            "outputs": [],
            "execution_count": null
        },
        {
            "cell_type": "markdown",
            "source": [
                "### Exercise 4: \n",
                "\n",
                "Consider the final (output) layers. Why are there 10 of them? What would happen if you had a different amount than 10? For example, try training the network with 5.\n",
                "\n",
                "<details><summary>Click for Answer</summary>\n",
                "<p>\n",
                "\n",
                "#### Answer\n",
                "You get an error as soon as it finds an unexpected value. Another rule of thumb -- the number of neurons in the last layer should match the number of classes you are classifying for. In this case it's the digits 0-9, so there are 10 of them, hence you should have 10 neurons in your final layer.\n",
                "\n",
                "</p>\n",
                "</details>"
            ],
            "metadata": {
                "id": "VqoCR-ieSGDg",
                "extensions": {
                    "azuredatastudio": {
                        "views": []
                    }
                },
                "azdata_cell_guid": "1a41e578-b2fb-4e75-a96f-9ef97f57b5d1"
            }
        },
        {
            "cell_type": "code",
            "source": [
                "mnist = tf.keras.datasets.mnist\n",
                "\n",
                "(training_images, training_labels) ,  (test_images, test_labels) = mnist.load_data()\n",
                "\n",
                "training_images = training_images/255.0\n",
                "test_images = test_images/255.0\n",
                "\n",
                "model = tf.keras.models.Sequential([tf.keras.layers.Flatten(),\n",
                "                                    tf.keras.layers.Dense(64, activation=tf.nn.relu),\n",
                "                                    tf.keras.layers.Dense(10, activation=tf.nn.softmax) # Try experimenting with this layer\n",
                "                                  ])\n",
                "\n",
                "model.compile(optimizer = 'adam',\n",
                "              loss = 'sparse_categorical_crossentropy')\n",
                "\n",
                "model.fit(training_images, training_labels, epochs=5)\n",
                "\n",
                "model.evaluate(test_images, test_labels)\n",
                "\n",
                "classifications = model.predict(test_images)\n",
                "\n",
                "print(classifications[0])\n",
                "print(test_labels[0])"
            ],
            "metadata": {
                "id": "MMckVntcSPvo",
                "extensions": {
                    "azuredatastudio": {
                        "views": []
                    }
                },
                "azdata_cell_guid": "6abd210e-fcc0-4f3f-944d-eab0b8ace752"
            },
            "outputs": [],
            "execution_count": null
        },
        {
            "cell_type": "markdown",
            "source": [
                "### Exercise 5: \n",
                "\n",
                "Consider the effects of additional layers in the network. What will happen if you add another layer between the one with 512 and the final layer with 10. \n",
                "\n",
                "<details><summary>Click for Answer</summary>\n",
                "<p>\n",
                "\n",
                "#### Answer \n",
                "There isn't a significant impact -- because this is relatively simple data. For far more complex data (including color images to be classified as flowers that you'll see in the next lesson), extra layers are often necessary. \n",
                "\n",
                "</p>\n",
                "</details>"
            ],
            "metadata": {
                "id": "-0lF5MuvSuZF",
                "extensions": {
                    "azuredatastudio": {
                        "views": []
                    }
                },
                "azdata_cell_guid": "14dd57a5-8f3b-42ff-bea4-1ee8a2f2701c"
            }
        },
        {
            "cell_type": "code",
            "source": [
                "mnist = tf.keras.datasets.mnist\n",
                "\n",
                "(training_images, training_labels) ,  (test_images, test_labels) = mnist.load_data()\n",
                "\n",
                "training_images = training_images/255.0\n",
                "test_images = test_images/255.0\n",
                "\n",
                "model = tf.keras.models.Sequential([tf.keras.layers.Flatten(),\n",
                "                                    # Add a layer here,\n",
                "                                    tf.keras.layers.Dense(256, activation=tf.nn.relu),\n",
                "                                    # Add a layer here\n",
                "                                  ])\n",
                "\n",
                "model.compile(optimizer = 'adam',\n",
                "              loss = 'sparse_categorical_crossentropy')\n",
                "\n",
                "model.fit(training_images, training_labels, epochs=5)\n",
                "\n",
                "model.evaluate(test_images, test_labels)\n",
                "\n",
                "classifications = model.predict(test_images)\n",
                "\n",
                "print(classifications[0])\n",
                "print(test_labels[0])"
            ],
            "metadata": {
                "id": "b1YPa6UhS8Es",
                "extensions": {
                    "azuredatastudio": {
                        "views": []
                    }
                },
                "azdata_cell_guid": "b068e48f-38f1-492c-9a5c-dcaf41dcc067"
            },
            "outputs": [],
            "execution_count": null
        },
        {
            "cell_type": "markdown",
            "source": [
                "### Exercise 6: \n",
                "\n",
                "### E6Q1: Consider the impact of training for more or less epochs. Why do you think that would be the case? \n",
                "\n",
                "- Try 15 epochs -- you'll probably get a model with a much better loss than the one with 5\n",
                "- Try 30 epochs -- you might see the loss value stops decreasing, and sometimes increases.\n",
                "\n",
                "This is a side effect of something called 'overfitting' which you can learn about later and it's something you need to keep an eye out for when training neural networks. There's no point in wasting your time training if you aren't improving your loss, right! :)"
            ],
            "metadata": {
                "id": "Bql9fyaNUSFy",
                "extensions": {
                    "azuredatastudio": {
                        "views": []
                    }
                },
                "azdata_cell_guid": "6d5ccd04-1eaf-4197-bb18-b7945b7228fb"
            }
        },
        {
            "cell_type": "code",
            "source": [
                "mnist = tf.keras.datasets.mnist\n",
                "\n",
                "(training_images, training_labels) ,  (test_images, test_labels) = mnist.load_data()\n",
                "\n",
                "training_images = training_images/255.0\n",
                "test_images = test_images/255.0\n",
                "\n",
                "model = tf.keras.models.Sequential([tf.keras.layers.Flatten(),\n",
                "                                    tf.keras.layers.Dense(128, activation=tf.nn.relu),\n",
                "                                    tf.keras.layers.Dense(10, activation=tf.nn.softmax)])\n",
                "\n",
                "model.compile(optimizer = 'adam',\n",
                "              loss = 'sparse_categorical_crossentropy')\n",
                "\n",
                "model.fit(training_images, training_labels, epochs=5) # Experiment with the number of epochs\n",
                "\n",
                "model.evaluate(test_images, test_labels)\n",
                "\n",
                "classifications = model.predict(test_images)\n",
                "\n",
                "print(classifications[34])\n",
                "print(test_labels[34])"
            ],
            "metadata": {
                "id": "uE3esj9BURQe",
                "extensions": {
                    "azuredatastudio": {
                        "views": []
                    }
                },
                "azdata_cell_guid": "7bad82cf-4d5a-4a30-b5ea-665d5e425b07"
            },
            "outputs": [],
            "execution_count": null
        },
        {
            "cell_type": "markdown",
            "source": [
                "### Exercise 7: \n",
                "\n",
                "Before you trained, you normalized the data, going from values that were 0-255 to values that were 0-1. What would be the impact of removing that? Here's the complete code to give it a try. Why do you think you get different results? "
            ],
            "metadata": {
                "id": "HS3vVkOgCDGZ",
                "extensions": {
                    "azuredatastudio": {
                        "views": []
                    }
                },
                "azdata_cell_guid": "7ce168be-d931-45e3-9db2-a20ca440919b"
            }
        },
        {
            "cell_type": "code",
            "source": [
                "mnist = tf.keras.datasets.mnist\n",
                "(training_images, training_labels), (test_images, test_labels) = mnist.load_data()\n",
                "training_images=training_images/255.0 # Experiment with removing this line\n",
                "test_images=test_images/255.0 # Experiment with removing this line\n",
                "model = tf.keras.models.Sequential([\n",
                "  tf.keras.layers.Flatten(),\n",
                "  tf.keras.layers.Dense(512, activation=tf.nn.relu),\n",
                "  tf.keras.layers.Dense(10, activation=tf.nn.softmax)\n",
                "])\n",
                "model.compile(optimizer='adam', loss='sparse_categorical_crossentropy')\n",
                "model.fit(training_images, training_labels, epochs=5)\n",
                "model.evaluate(test_images, test_labels)\n",
                "classifications = model.predict(test_images)\n",
                "print(classifications[0])\n",
                "print(test_labels[0])"
            ],
            "metadata": {
                "id": "JDqNAqrpCNg0",
                "extensions": {
                    "azuredatastudio": {
                        "views": []
                    }
                },
                "azdata_cell_guid": "76d0a45c-0055-471c-a35c-03ca209d36e7"
            },
            "outputs": [],
            "execution_count": null
        },
        {
            "cell_type": "markdown",
            "source": [
                "### Exercise 8: \n",
                "\n",
                "Earlier when you trained for extra epochs you had an issue where your loss might change. It might have taken a bit of time for you to wait for the training to do that, and you might have thought 'wouldn't it be nice if I could stop the training when I reach a desired value?' -- i.e. 95% accuracy might be enough for you, and if you reach that after 3 epochs, why sit around waiting for it to finish a lot more epochs....So how would you fix that? Like any other program...you have callbacks! Let's see them in action..."
            ],
            "metadata": {
                "id": "E7W2PT66ZBHQ",
                "extensions": {
                    "azuredatastudio": {
                        "views": []
                    }
                },
                "azdata_cell_guid": "4694572a-aed7-43e8-8fdc-8ed8f3e80705"
            }
        },
        {
            "cell_type": "code",
            "source": [
                "class myCallback(tf.keras.callbacks.Callback):\n",
                "  def on_epoch_end(self, epoch, logs={}):\n",
                "    if(logs.get('accuracy') >= 0.6): # Experiment with changing this value\n",
                "      print(\"\\nReached 60% accuracy so cancelling training!\")\n",
                "      self.model.stop_training = True\n",
                "\n",
                "callbacks = myCallback()\n",
                "mnist = tf.keras.datasets.fashion_mnist\n",
                "(training_images, training_labels), (test_images, test_labels) = mnist.load_data()\n",
                "training_images=training_images/255.0\n",
                "test_images=test_images/255.0\n",
                "model = tf.keras.models.Sequential([\n",
                "  tf.keras.layers.Flatten(),\n",
                "  tf.keras.layers.Dense(512, activation=tf.nn.relu),\n",
                "  tf.keras.layers.Dense(10, activation=tf.nn.softmax)\n",
                "])\n",
                "model.compile(optimizer='adam', loss='sparse_categorical_crossentropy', metrics=['accuracy'])\n",
                "model.fit(training_images, training_labels, epochs=5, callbacks=[callbacks])\n"
            ],
            "metadata": {
                "id": "pkaEHHgqZbYv",
                "extensions": {
                    "azuredatastudio": {
                        "views": []
                    }
                },
                "azdata_cell_guid": "8ca6c04a-e79b-4634-bfe6-a3602314a26e"
            },
            "outputs": [],
            "execution_count": null
        }
    ]
}